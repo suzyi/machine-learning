{
 "cells": [
  {
   "cell_type": "markdown",
   "metadata": {},
   "source": [
    "# Function and Class\n",
    "Guorui Shen, guorui233@outlook.com\n",
    "\n",
    "Jul 2, 2019"
   ]
  },
  {
   "cell_type": "markdown",
   "metadata": {},
   "source": [
    "## 1 - Function"
   ]
  },
  {
   "cell_type": "code",
   "execution_count": 1,
   "metadata": {},
   "outputs": [],
   "source": [
    "def f(x):\n",
    "    return x**2\n",
    "g = lambda x: x**3"
   ]
  },
  {
   "cell_type": "code",
   "execution_count": 2,
   "metadata": {},
   "outputs": [
    {
     "name": "stdout",
     "output_type": "stream",
     "text": [
      "f(0)=0, g(0)=0.\n",
      "f(1)=1, g(1)=1.\n",
      "f(2)=4, g(2)=8.\n"
     ]
    }
   ],
   "source": [
    "for i in range(3):\n",
    "    print('f({})={}, g({})={}.'.format(i, f(i), i, g(i)))"
   ]
  },
  {
   "cell_type": "markdown",
   "metadata": {},
   "source": [
    "## 2 - Class"
   ]
  },
  {
   "cell_type": "code",
   "execution_count": 3,
   "metadata": {},
   "outputs": [],
   "source": [
    "class student:\n",
    "    def __init__(self, Name, Age, Sex, Id):\n",
    "        self.name = Name\n",
    "        self.age = Age\n",
    "        self.sex = Sex\n",
    "        self.id = Id\n",
    "    \n",
    "    def change_info(self, Name, Age, Sex, Id):\n",
    "        self.name = Name\n",
    "        self.age = Age\n",
    "        self.sex = Sex\n",
    "        self.id = Id\n",
    "    \n",
    "    def get_info(self):\n",
    "        return self.name, self.age, self.sex, self.id"
   ]
  },
  {
   "cell_type": "code",
   "execution_count": 4,
   "metadata": {},
   "outputs": [],
   "source": [
    "A = student('John', 19, 'male', 'U201910023')"
   ]
  },
  {
   "cell_type": "code",
   "execution_count": 5,
   "metadata": {},
   "outputs": [
    {
     "name": "stdout",
     "output_type": "stream",
     "text": [
      "('John', 19, 'male', 'U201910023')\n"
     ]
    }
   ],
   "source": [
    "print(A.get_info())"
   ]
  }
 ],
 "metadata": {
  "kernelspec": {
   "display_name": "kernelForTF",
   "language": "python",
   "name": "kernelfortf"
  },
  "language_info": {
   "codemirror_mode": {
    "name": "ipython",
    "version": 2
   },
   "file_extension": ".py",
   "mimetype": "text/x-python",
   "name": "python",
   "nbconvert_exporter": "python",
   "pygments_lexer": "ipython2",
   "version": "2.7.12"
  }
 },
 "nbformat": 4,
 "nbformat_minor": 2
}
