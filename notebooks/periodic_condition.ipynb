{
 "cells": [
  {
   "cell_type": "markdown",
   "metadata": {},
   "source": [
    "# Implement Periodic Condition\n",
    "Guorui Shen, guorui233@outlook.com\n",
    "\n",
    "We consider a periodic dataset $u(t)\\in R^Q, t=1, 2, \\cdots, L$, which is sampled from $u = u(x, t)$. This is constantly occuring in  the numerical solution to a PDE. $u(t)\\in R^Q$ can be divided into $g$ groups with each group of length $q$ if $g\\cdot q=Q$."
   ]
  },
  {
   "cell_type": "code",
   "execution_count": 1,
   "metadata": {},
   "outputs": [],
   "source": [
    "import numpy as np"
   ]
  },
  {
   "cell_type": "code",
   "execution_count": 2,
   "metadata": {},
   "outputs": [
    {
     "name": "stdout",
     "output_type": "stream",
     "text": [
      "[[  0.  18.  36.  54.  72.  90. 108. 126. 144. 162.]\n",
      " [  1.  19.  37.  55.  73.  91. 109. 127. 145. 163.]\n",
      " [  2.  20.  38.  56.  74.  92. 110. 128. 146. 164.]\n",
      " [  3.  21.  39.  57.  75.  93. 111. 129. 147. 165.]\n",
      " [  4.  22.  40.  58.  76.  94. 112. 130. 148. 166.]\n",
      " [  5.  23.  41.  59.  77.  95. 113. 131. 149. 167.]\n",
      " [  6.  24.  42.  60.  78.  96. 114. 132. 150. 168.]\n",
      " [  7.  25.  43.  61.  79.  97. 115. 133. 151. 169.]\n",
      " [  8.  26.  44.  62.  80.  98. 116. 134. 152. 170.]\n",
      " [  9.  27.  45.  63.  81.  99. 117. 135. 153. 171.]\n",
      " [ 10.  28.  46.  64.  82. 100. 118. 136. 154. 172.]\n",
      " [ 11.  29.  47.  65.  83. 101. 119. 137. 155. 173.]\n",
      " [ 12.  30.  48.  66.  84. 102. 120. 138. 156. 174.]\n",
      " [ 13.  31.  49.  67.  85. 103. 121. 139. 157. 175.]\n",
      " [ 14.  32.  50.  68.  86. 104. 122. 140. 158. 176.]\n",
      " [ 15.  33.  51.  69.  87. 105. 123. 141. 159. 177.]\n",
      " [ 16.  34.  52.  70.  88. 106. 124. 142. 160. 178.]\n",
      " [ 17.  35.  53.  71.  89. 107. 125. 143. 161. 179.]]\n"
     ]
    }
   ],
   "source": [
    "a = np.arange(180.0)\n",
    "num_x = 18\n",
    "num_t = len(a)/num_x\n",
    "u = a[:num_x].reshape((-1, 1))\n",
    "for i in range(1, num_t):\n",
    "    u = np.hstack((u, a[i*num_x:(i+1)*num_x].reshape(-1, 1)))\n",
    "print(u)"
   ]
  },
  {
   "cell_type": "code",
   "execution_count": 3,
   "metadata": {},
   "outputs": [
    {
     "name": "stdout",
     "output_type": "stream",
     "text": [
      "18\n"
     ]
    }
   ],
   "source": [
    "Q = len(u)\n",
    "q = 6\n",
    "g = Q/q\n",
    "l = 1\n",
    "print(Q)\n",
    "\n",
    "in_dim, out_dim = q+2*l, q\n",
    "in_data = np.empty((0, in_dim))\n",
    "out_data = np.empty((0, out_dim))"
   ]
  },
  {
   "cell_type": "code",
   "execution_count": 4,
   "metadata": {},
   "outputs": [],
   "source": [
    "# # Non-periodic condition\n",
    "# for k in range(g):\n",
    "#     if k==0:\n",
    "#         index = range(q+2*l)\n",
    "#     elif k==g-1:\n",
    "#         index = range(Q-q-2*l, Q)\n",
    "#     else:\n",
    "#         index = range(k*q-l, (k+1)*q+l)\n",
    "    \n",
    "#     for i in range(num_t-1):\n",
    "#         in_data = np.vstack((in_data, u[index, i]))\n",
    "#         out_data = np.vstack((out_data, u[k*q:(k+1)*q, i+1]))"
   ]
  },
  {
   "cell_type": "code",
   "execution_count": 5,
   "metadata": {},
   "outputs": [],
   "source": [
    "# Periodic condition\n",
    "for k in range(g):\n",
    "    if k==0:\n",
    "        index = range(-l, 0)+range(q+l)\n",
    "    elif k==g-1:\n",
    "        index = range(Q-q-l, Q)+range(l)\n",
    "    else:\n",
    "        index = range(k*q-l, (k+1)*q+l)\n",
    "    \n",
    "    for i in range(num_t-1):\n",
    "        in_data = np.vstack((in_data, u[index, i]))\n",
    "        out_data = np.vstack((out_data, u[k*q:(k+1)*q, i+1]))"
   ]
  },
  {
   "cell_type": "code",
   "execution_count": 6,
   "metadata": {},
   "outputs": [
    {
     "name": "stdout",
     "output_type": "stream",
     "text": [
      "('From', array([17.,  0.,  1.,  2.,  3.,  4.,  5.,  6.]), 'to', array([18., 19., 20., 21., 22., 23.]))\n",
      "('From', array([35., 18., 19., 20., 21., 22., 23., 24.]), 'to', array([36., 37., 38., 39., 40., 41.]))\n",
      "('From', array([53., 36., 37., 38., 39., 40., 41., 42.]), 'to', array([54., 55., 56., 57., 58., 59.]))\n",
      "('From', array([71., 54., 55., 56., 57., 58., 59., 60.]), 'to', array([72., 73., 74., 75., 76., 77.]))\n",
      "('From', array([89., 72., 73., 74., 75., 76., 77., 78.]), 'to', array([90., 91., 92., 93., 94., 95.]))\n",
      "('From', array([107.,  90.,  91.,  92.,  93.,  94.,  95.,  96.]), 'to', array([108., 109., 110., 111., 112., 113.]))\n",
      "('From', array([125., 108., 109., 110., 111., 112., 113., 114.]), 'to', array([126., 127., 128., 129., 130., 131.]))\n",
      "('From', array([143., 126., 127., 128., 129., 130., 131., 132.]), 'to', array([144., 145., 146., 147., 148., 149.]))\n",
      "('From', array([161., 144., 145., 146., 147., 148., 149., 150.]), 'to', array([162., 163., 164., 165., 166., 167.]))\n",
      "('From', array([ 5.,  6.,  7.,  8.,  9., 10., 11., 12.]), 'to', array([24., 25., 26., 27., 28., 29.]))\n",
      "('From', array([23., 24., 25., 26., 27., 28., 29., 30.]), 'to', array([42., 43., 44., 45., 46., 47.]))\n",
      "('From', array([41., 42., 43., 44., 45., 46., 47., 48.]), 'to', array([60., 61., 62., 63., 64., 65.]))\n",
      "('From', array([59., 60., 61., 62., 63., 64., 65., 66.]), 'to', array([78., 79., 80., 81., 82., 83.]))\n",
      "('From', array([77., 78., 79., 80., 81., 82., 83., 84.]), 'to', array([ 96.,  97.,  98.,  99., 100., 101.]))\n",
      "('From', array([ 95.,  96.,  97.,  98.,  99., 100., 101., 102.]), 'to', array([114., 115., 116., 117., 118., 119.]))\n",
      "('From', array([113., 114., 115., 116., 117., 118., 119., 120.]), 'to', array([132., 133., 134., 135., 136., 137.]))\n",
      "('From', array([131., 132., 133., 134., 135., 136., 137., 138.]), 'to', array([150., 151., 152., 153., 154., 155.]))\n",
      "('From', array([149., 150., 151., 152., 153., 154., 155., 156.]), 'to', array([168., 169., 170., 171., 172., 173.]))\n",
      "('From', array([11., 12., 13., 14., 15., 16., 17.,  0.]), 'to', array([30., 31., 32., 33., 34., 35.]))\n",
      "('From', array([29., 30., 31., 32., 33., 34., 35., 18.]), 'to', array([48., 49., 50., 51., 52., 53.]))\n",
      "('From', array([47., 48., 49., 50., 51., 52., 53., 36.]), 'to', array([66., 67., 68., 69., 70., 71.]))\n",
      "('From', array([65., 66., 67., 68., 69., 70., 71., 54.]), 'to', array([84., 85., 86., 87., 88., 89.]))\n",
      "('From', array([83., 84., 85., 86., 87., 88., 89., 72.]), 'to', array([102., 103., 104., 105., 106., 107.]))\n",
      "('From', array([101., 102., 103., 104., 105., 106., 107.,  90.]), 'to', array([120., 121., 122., 123., 124., 125.]))\n",
      "('From', array([119., 120., 121., 122., 123., 124., 125., 108.]), 'to', array([138., 139., 140., 141., 142., 143.]))\n",
      "('From', array([137., 138., 139., 140., 141., 142., 143., 126.]), 'to', array([156., 157., 158., 159., 160., 161.]))\n",
      "('From', array([155., 156., 157., 158., 159., 160., 161., 144.]), 'to', array([174., 175., 176., 177., 178., 179.]))\n"
     ]
    }
   ],
   "source": [
    "for j in range(len(in_data)):\n",
    "    print('From', in_data[j], 'to', out_data[j])"
   ]
  },
  {
   "cell_type": "code",
   "execution_count": null,
   "metadata": {},
   "outputs": [],
   "source": []
  }
 ],
 "metadata": {
  "kernelspec": {
   "display_name": "kernelForTF",
   "language": "python",
   "name": "kernelfortf"
  },
  "language_info": {
   "codemirror_mode": {
    "name": "ipython",
    "version": 2
   },
   "file_extension": ".py",
   "mimetype": "text/x-python",
   "name": "python",
   "nbconvert_exporter": "python",
   "pygments_lexer": "ipython2",
   "version": "2.7.12"
  }
 },
 "nbformat": 4,
 "nbformat_minor": 2
}
