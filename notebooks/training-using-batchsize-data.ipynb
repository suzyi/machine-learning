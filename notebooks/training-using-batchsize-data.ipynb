{
 "cells": [
  {
   "cell_type": "markdown",
   "metadata": {},
   "source": [
    "### Method 1 - Disturb, fetch in order, loop when attain the end."
   ]
  },
  {
   "cell_type": "code",
   "execution_count": 1,
   "metadata": {},
   "outputs": [],
   "source": [
    "import numpy as np \n",
    "\n",
    "class Dataset:\n",
    "\n",
    "    def __init__(self,data):\n",
    "        self._index_in_epoch = 0\n",
    "        self._epochs_completed = 0\n",
    "        self._data = data\n",
    "        self._num_examples = data.shape[0]\n",
    "        pass\n",
    "\n",
    "    @property\n",
    "    def data(self):\n",
    "        return self._data\n",
    "\n",
    "    def next_batch(self,batch_size,shuffle = True):\n",
    "        start = self._index_in_epoch\n",
    "        if start == 0 and self._epochs_completed == 0:\n",
    "            idx = np.arange(0, self._num_examples)  # get all possible indexes\n",
    "            np.random.shuffle(idx)  # shuffle indexe\n",
    "            self._data = self.data[idx]  # get list of `num` random samples\n",
    "\n",
    "        # go to the next batch\n",
    "        if start + batch_size > self._num_examples:\n",
    "            self._epochs_completed += 1\n",
    "            rest_num_examples = self._num_examples - start\n",
    "            data_rest_part = self.data[start:self._num_examples]\n",
    "            idx0 = np.arange(0, self._num_examples)  # get all possible indexes\n",
    "            np.random.shuffle(idx0)  # shuffle indexes\n",
    "            self._data = self.data[idx0]  # get list of `num` random samples\n",
    "\n",
    "            start = 0\n",
    "            self._index_in_epoch = batch_size - rest_num_examples #avoid the case where the #sample != integar times of batch_size\n",
    "            end =  self._index_in_epoch  \n",
    "            data_new_part =  self._data[start:end]  \n",
    "            return np.concatenate((data_rest_part, data_new_part), axis=0)\n",
    "        else:\n",
    "            self._index_in_epoch += batch_size\n",
    "            end = self._index_in_epoch\n",
    "            return self._data[start:end]"
   ]
  },
  {
   "cell_type": "code",
   "execution_count": 2,
   "metadata": {},
   "outputs": [
    {
     "name": "stdout",
     "output_type": "stream",
     "text": [
      "[[ 0.044405   -1.80456467 -1.06199452 -0.14901493 -0.17632282]\n",
      " [-0.14319513 -1.07524987  0.43672162 -0.37384503  0.66633331]\n",
      " [ 0.78068873  0.25609399 -0.05201155  1.74364849  1.7539313 ]\n",
      " [-1.28008302 -0.72534653  0.46229277  0.20281318 -0.66613969]\n",
      " [ 0.73371191  0.14944569  1.29800851  0.58278309  0.27298921]\n",
      " [ 1.11325289 -0.76692396 -0.74869919  0.83903653 -0.33771925]\n",
      " [-0.33432592 -0.27145528  4.07791904  2.12370519 -1.14545456]]\n"
     ]
    }
   ],
   "source": [
    "num = 7\n",
    "features = np.random.normal(0,1,(num,3))\n",
    "labels = np.random.normal(0,1,(num,2))\n",
    "train_data = np.hstack((features, labels))\n",
    "print(train_data)"
   ]
  },
  {
   "cell_type": "code",
   "execution_count": 3,
   "metadata": {},
   "outputs": [
    {
     "name": "stdout",
     "output_type": "stream",
     "text": [
      "(0, array([[-1.28008302, -0.72534653,  0.46229277],\n",
      "       [-0.14319513, -1.07524987,  0.43672162],\n",
      "       [ 0.044405  , -1.80456467, -1.06199452]]), array([[ 0.20281318, -0.66613969],\n",
      "       [-0.37384503,  0.66633331],\n",
      "       [-0.14901493, -0.17632282]]))\n",
      "(1, array([[ 0.78068873,  0.25609399, -0.05201155],\n",
      "       [-0.33432592, -0.27145528,  4.07791904],\n",
      "       [ 0.73371191,  0.14944569,  1.29800851]]), array([[ 1.74364849,  1.7539313 ],\n",
      "       [ 2.12370519, -1.14545456],\n",
      "       [ 0.58278309,  0.27298921]]))\n",
      "(2, array([[ 1.11325289, -0.76692396, -0.74869919],\n",
      "       [ 0.73371191,  0.14944569,  1.29800851],\n",
      "       [ 0.78068873,  0.25609399, -0.05201155]]), array([[ 0.83903653, -0.33771925],\n",
      "       [ 0.58278309,  0.27298921],\n",
      "       [ 1.74364849,  1.7539313 ]]))\n",
      "(3, array([[-1.28008302, -0.72534653,  0.46229277],\n",
      "       [ 1.11325289, -0.76692396, -0.74869919],\n",
      "       [-0.14319513, -1.07524987,  0.43672162]]), array([[ 0.20281318, -0.66613969],\n",
      "       [ 0.83903653, -0.33771925],\n",
      "       [-0.37384503,  0.66633331]]))\n",
      "(4, array([[-0.33432592, -0.27145528,  4.07791904],\n",
      "       [ 0.044405  , -1.80456467, -1.06199452],\n",
      "       [ 0.78068873,  0.25609399, -0.05201155]]), array([[ 2.12370519, -1.14545456],\n",
      "       [-0.14901493, -0.17632282],\n",
      "       [ 1.74364849,  1.7539313 ]]))\n",
      "(5, array([[ 0.73371191,  0.14944569,  1.29800851],\n",
      "       [ 1.11325289, -0.76692396, -0.74869919],\n",
      "       [-1.28008302, -0.72534653,  0.46229277]]), array([[ 0.58278309,  0.27298921],\n",
      "       [ 0.83903653, -0.33771925],\n",
      "       [ 0.20281318, -0.66613969]]))\n",
      "(6, array([[-0.14319513, -1.07524987,  0.43672162],\n",
      "       [ 0.044405  , -1.80456467, -1.06199452],\n",
      "       [-0.33432592, -0.27145528,  4.07791904]]), array([[-0.37384503,  0.66633331],\n",
      "       [-0.14901493, -0.17632282],\n",
      "       [ 2.12370519, -1.14545456]]))\n",
      "(7, array([[ 0.73371191,  0.14944569,  1.29800851],\n",
      "       [-1.28008302, -0.72534653,  0.46229277],\n",
      "       [-0.14319513, -1.07524987,  0.43672162]]), array([[ 0.58278309,  0.27298921],\n",
      "       [ 0.20281318, -0.66613969],\n",
      "       [-0.37384503,  0.66633331]]))\n",
      "(8, array([[ 1.11325289, -0.76692396, -0.74869919],\n",
      "       [-0.33432592, -0.27145528,  4.07791904],\n",
      "       [ 0.044405  , -1.80456467, -1.06199452]]), array([[ 0.83903653, -0.33771925],\n",
      "       [ 2.12370519, -1.14545456],\n",
      "       [-0.14901493, -0.17632282]]))\n",
      "(9, array([[ 0.78068873,  0.25609399, -0.05201155],\n",
      "       [ 1.11325289, -0.76692396, -0.74869919],\n",
      "       [-0.14319513, -1.07524987,  0.43672162]]), array([[ 1.74364849,  1.7539313 ],\n",
      "       [ 0.83903653, -0.33771925],\n",
      "       [-0.37384503,  0.66633331]]))\n"
     ]
    }
   ],
   "source": [
    "batch_size = 3\n",
    "dataset = Dataset(train_data)\n",
    "for i in range(10):\n",
    "    data_batch = dataset.next_batch(batch_size)\n",
    "    batch_features, batch_labels = data_batch[:, :len(features[0])], data_batch[:, len(features[0]):]\n",
    "    print(i, batch_features, batch_labels)"
   ]
  },
  {
   "cell_type": "markdown",
   "metadata": {},
   "source": [
    "### Method 2 Disturb and fetch every time"
   ]
  },
  {
   "cell_type": "code",
   "execution_count": 1,
   "metadata": {},
   "outputs": [],
   "source": [
    "def next_batch(x, y, batch_size):\n",
    "    N = x.shape[0]\n",
    "    batch_indices = np.random.permutation(N)[:batch_size]\n",
    "    return x[batch_indices], y[batch_indices]"
   ]
  },
  {
   "cell_type": "code",
   "execution_count": null,
   "metadata": {},
   "outputs": [],
   "source": []
  }
 ],
 "metadata": {
  "anaconda-cloud": {},
  "kernelspec": {
   "display_name": "kernelForTF",
   "language": "python",
   "name": "kernelfortf"
  },
  "language_info": {
   "codemirror_mode": {
    "name": "ipython",
    "version": 2
   },
   "file_extension": ".py",
   "mimetype": "text/x-python",
   "name": "python",
   "nbconvert_exporter": "python",
   "pygments_lexer": "ipython2",
   "version": "2.7.12"
  }
 },
 "nbformat": 4,
 "nbformat_minor": 1
}
