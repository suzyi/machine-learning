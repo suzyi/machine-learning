{
 "cells": [
  {
   "cell_type": "markdown",
   "metadata": {
    "collapsed": true
   },
   "source": [
    "# Recurrent Neural Network Example\n",
    "\n",
    "Build a recurrent neural network (LSTM) with TensorFlow.\n",
    "\n",
    "- Author: Guorui shen, original script https://github.com/aymericdamien/TensorFlow-Examples/blob/master/notebooks/3_NeuralNetworks/recurrent_network.ipynb\n",
    "- Project: https://github.com/aymericdamien/TensorFlow-Examples/\n",
    "- Detailed description of this code https://jasdeep06.github.io/posts/Understanding-LSTM-in-Tensorflow-MNIST/"
   ]
  },
  {
   "cell_type": "markdown",
   "metadata": {},
   "source": [
    "## LSTM\n",
    "reference - https://en.wikipedia.org/wiki/LSTM\n",
    "\\begin{align}\n",
    "&f_t = \\sigma_g(W_fx_t+U_fh_{t-1}+b_f)\\cr\n",
    "&i_t = \\sigma_g(W_ix_t+U_ih_{t-1}+b_i)\\cr\n",
    "&o_t = \\sigma_g(W_ox_t+U_oh_{t-1}+b_o)\\cr\n",
    "&c_t = f_t\\circ c_{t-1}+i_t\\sigma_c(W_cx_t+U_ch_{t-1}+b_c)\\cr\n",
    "&h_t = o_t\\circ \\sigma_h(c_t)\n",
    "\\end{align}\n",
    "where the initial values are $c_{0}=0$ and $h_{0}=0$, $c_t\\in R^h, h_t\\in R_h$. The LSTM is shown as \n",
    "<img src=\"./pictures/lstm_structure.png\" alt=\"sturcture of a lstm unit\" style=\"width: 300px;\"/>\n",
    "and unrolling timesteps times as \n",
    "<img src=\"./pictures/unroll.png\" alt=\"unrolling/unfolding a lstm unit multiple times\" style=\"width: 900px;\"/>\n",
    "and finally, the information of all inputs $x_1, x_2, \\cdots, x_{timesteps}$ are accumulated into $h_{timesteps}$ when the lstm unit was unrolled timesteps times.\n",
    "\n",
    "Both two pictures are from Stanford, Feifei-Li et al slides."
   ]
  },
  {
   "cell_type": "markdown",
   "metadata": {},
   "source": [
    "## RNN Overview\n",
    "\n",
    "<img src=\"http://colah.github.io/posts/2015-08-Understanding-LSTMs/img/RNN-unrolled.png\" alt=\"nn\" style=\"width: 600px;\"/>\n",
    "\n",
    "where $A$ in this picture represents a LSTM unit.\n",
    "\n",
    "References:\n",
    "- [Long Short Term Memory](http://deeplearning.cs.cmu.edu/pdfs/Hochreiter97_lstm.pdf), Sepp Hochreiter & Jurgen Schmidhuber, Neural Computation 9(8): 1735-1780, 1997.\n",
    "\n",
    "## MNIST Dataset Overview\n",
    "\n",
    "This example is using MNIST handwritten digits. The dataset contains 60,000 examples for training and 10,000 examples for testing. The digits have been size-normalized and centered in a fixed-size image (28x28 pixels) with values from 0 to 1. For simplicity, each image has been flattened and converted to a 1-D numpy array of 784 features (28*28).\n",
    "\n",
    "![MNIST Dataset](http://neuralnetworksanddeeplearning.com/images/mnist_100_digits.png)\n",
    "\n",
    "To classify images using a recurrent neural network, we consider every image row as a sequence of pixels. Because MNIST image shape is 28*28px, we will then handle 28 sequences of 28 timesteps for every sample.\n",
    "\n",
    "More info: http://yann.lecun.com/exdb/mnist/"
   ]
  },
  {
   "cell_type": "code",
   "execution_count": 1,
   "metadata": {},
   "outputs": [
    {
     "name": "stdout",
     "output_type": "stream",
     "text": [
      "Extracting /tmp/data/train-images-idx3-ubyte.gz\n",
      "Extracting /tmp/data/train-labels-idx1-ubyte.gz\n",
      "Extracting /tmp/data/t10k-images-idx3-ubyte.gz\n",
      "Extracting /tmp/data/t10k-labels-idx1-ubyte.gz\n"
     ]
    }
   ],
   "source": [
    "from __future__ import print_function\n",
    "\n",
    "import tensorflow as tf\n",
    "from tensorflow.contrib import rnn\n",
    "\n",
    "# Import MNIST data\n",
    "from tensorflow.examples.tutorials.mnist import input_data\n",
    "mnist = input_data.read_data_sets(\"/tmp/data/\", one_hot=True)"
   ]
  },
  {
   "cell_type": "code",
   "execution_count": 2,
   "metadata": {},
   "outputs": [],
   "source": [
    "# Training Parameters\n",
    "learning_rate = 0.001\n",
    "training_steps = 10000\n",
    "batch_size = 128\n",
    "display_step = 200\n",
    "\n",
    "# Network Parameters\n",
    "num_input = 28 # MNIST data input (img shape: 28*28)\n",
    "timesteps = 28 # timesteps\n",
    "num_hidden = 128 # hidden layer num of features\n",
    "num_classes = 10 # MNIST total classes (0-9 digits)\n",
    "\n",
    "# tf Graph input\n",
    "X = tf.placeholder(\"float\", [None, timesteps, num_input])\n",
    "Y = tf.placeholder(\"float\", [None, num_classes])"
   ]
  },
  {
   "cell_type": "code",
   "execution_count": 3,
   "metadata": {},
   "outputs": [],
   "source": [
    "# Define weights\n",
    "weights = {\n",
    "    'out': tf.Variable(tf.random_normal([num_hidden, num_classes]))\n",
    "}\n",
    "biases = {\n",
    "    'out': tf.Variable(tf.random_normal([num_classes]))\n",
    "}"
   ]
  },
  {
   "cell_type": "code",
   "execution_count": 4,
   "metadata": {},
   "outputs": [],
   "source": [
    "# tf.nn.static_rnn(cell, inputs, initial_state=None, dtype=None, sequence_length=None, scope=None)\n",
    "\n",
    "# input:\n",
    "#     cell:用于神经网络的RNN神经元,如BasicRNNCell,BasicLSTMCell\n",
    "#     inputs:一个长度为T的list,list中的每个元素为一个Tensor，Tensor的size为[batch_size,input_size]\n",
    "#     initial_state:RNN的初始状态，如果cell.state_size是一个整数，则它必须是适当类型和形如[batch_size,cell.state_size]的张量。如cell.state_size是一个元组，那么它应该是一个张量元组，对于cell.state_size中的s,应该是具有形如[batch_size,s]的张量的元组。\n",
    "#     dtype:初始状态和预期输出的数据类型。可选参数。\n",
    "#     sequence_length:指定每个输入的序列的长度。大小为batch_size的向量。\n",
    "#     scope:变量范围\n",
    "# output:\n",
    "#     (outputs，state)\n",
    "#     outputs:一个长度为T的list，list中的每个元素是每个输入对应的输出。例如一个时间步对应一个输出。\n",
    "#     state:最终的状态"
   ]
  },
  {
   "cell_type": "code",
   "execution_count": 5,
   "metadata": {},
   "outputs": [],
   "source": [
    "def RNN(x, weights, biases):\n",
    "\n",
    "    # Prepare data shape to match `rnn` function requirements\n",
    "    # Current data input shape: (batch_size, timesteps, n_input)\n",
    "    # Required shape: 'timesteps' tensors list of shape (batch_size, n_input)\n",
    "\n",
    "    # Unstack to get a list of 'timesteps' tensors of shape (batch_size, n_input)\n",
    "    x = tf.unstack(x, timesteps, 1)\n",
    "\n",
    "    # Define a lstm cell with tensorflow\n",
    "    lstm_cell = rnn.BasicLSTMCell(num_hidden, forget_bias=1.0)\n",
    "\n",
    "    # Get lstm cell output\n",
    "    h_t, c_t = rnn.static_rnn(lstm_cell, x, dtype=tf.float32) # x is of (timesteps, batch_size, num_input)\n",
    "    outputs, states = h_t, c_t # where both h_t and c_t are of size (timesteps, batch_size, num_hidden)\n",
    "\n",
    "    # Linear activation, using rnn inner loop last output\n",
    "    return tf.matmul(outputs[-1], weights['out']) + biases['out']"
   ]
  },
  {
   "cell_type": "code",
   "execution_count": 6,
   "metadata": {
    "scrolled": false
   },
   "outputs": [
    {
     "name": "stdout",
     "output_type": "stream",
     "text": [
      "WARNING:tensorflow:From <ipython-input-6-e3b51778de6b>:6: softmax_cross_entropy_with_logits (from tensorflow.python.ops.nn_ops) is deprecated and will be removed in a future version.\n",
      "Instructions for updating:\n",
      "\n",
      "Future major versions of TensorFlow will allow gradients to flow\n",
      "into the labels input on backprop by default.\n",
      "\n",
      "See tf.nn.softmax_cross_entropy_with_logits_v2.\n",
      "\n"
     ]
    }
   ],
   "source": [
    "logits = RNN(X, weights, biases)\n",
    "prediction = tf.nn.softmax(logits)\n",
    "\n",
    "# Define loss and optimizer\n",
    "loss_op = tf.reduce_mean(tf.nn.softmax_cross_entropy_with_logits(\n",
    "    logits=logits, labels=Y))\n",
    "optimizer = tf.train.GradientDescentOptimizer(learning_rate=learning_rate)\n",
    "train_op = optimizer.minimize(loss_op)\n",
    "\n",
    "# Evaluate model (with test logits, for dropout to be disabled)\n",
    "correct_pred = tf.equal(tf.argmax(prediction, 1), tf.argmax(Y, 1))\n",
    "accuracy = tf.reduce_mean(tf.cast(correct_pred, tf.float32))\n",
    "\n",
    "# Initialize the variables (i.e. assign their default value)\n",
    "init = tf.global_variables_initializer()"
   ]
  },
  {
   "cell_type": "code",
   "execution_count": 7,
   "metadata": {},
   "outputs": [
    {
     "name": "stdout",
     "output_type": "stream",
     "text": [
      "4 2 3\n",
      "[array([[ 1,  2,  3],\n",
      "       [13, 14, 15]]), array([[ 4,  5,  6],\n",
      "       [16, 17, 18]]), array([[ 7,  8,  9],\n",
      "       [19, 20, 21]]), array([[10, 11, 12],\n",
      "       [22, 23, 24]])]\n"
     ]
    }
   ],
   "source": [
    "# deletable, for understanding tf.unstack\n",
    "import numpy as np\n",
    "a = np.array([[[1,2,3],[4,5,6],[7,8,9],[10,11,12]], [[13,14,15],[16,17,18],[19,20,21],[22,23,24]]])\n",
    "with tf.Session() as sess:\n",
    "\n",
    "    # Run the initializer\n",
    "    sess.run(init)\n",
    "    x = tf.constant(a) # 2,4,3\n",
    "    x = tf.unstack(x, 4, 1)\n",
    "    x_val = sess.run(x) # 4,2,3\n",
    "    print(len(x_val), len(x_val[0]), len(x_val[0][0]))\n",
    "    print(x_val)"
   ]
  },
  {
   "cell_type": "code",
   "execution_count": 8,
   "metadata": {
    "scrolled": false
   },
   "outputs": [
    {
     "name": "stdout",
     "output_type": "stream",
     "text": [
      "Step 1, Minibatch Loss= 2.7322, Training Accuracy= 0.078\n",
      "Step 200, Minibatch Loss= 2.0772, Training Accuracy= 0.266\n",
      "Step 400, Minibatch Loss= 1.9767, Training Accuracy= 0.336\n",
      "Step 600, Minibatch Loss= 1.8273, Training Accuracy= 0.422\n",
      "Step 800, Minibatch Loss= 1.7489, Training Accuracy= 0.438\n",
      "Step 1000, Minibatch Loss= 1.6559, Training Accuracy= 0.391\n",
      "Step 1200, Minibatch Loss= 1.4982, Training Accuracy= 0.523\n",
      "Step 1400, Minibatch Loss= 1.3998, Training Accuracy= 0.539\n",
      "Step 1600, Minibatch Loss= 1.3682, Training Accuracy= 0.562\n",
      "Step 1800, Minibatch Loss= 1.2685, Training Accuracy= 0.586\n",
      "Step 2000, Minibatch Loss= 1.3515, Training Accuracy= 0.586\n",
      "Step 2200, Minibatch Loss= 1.0189, Training Accuracy= 0.758\n",
      "Step 2400, Minibatch Loss= 1.0394, Training Accuracy= 0.688\n",
      "Step 2600, Minibatch Loss= 1.0661, Training Accuracy= 0.695\n",
      "Step 2800, Minibatch Loss= 1.1419, Training Accuracy= 0.633\n",
      "Step 3000, Minibatch Loss= 1.0063, Training Accuracy= 0.641\n",
      "Step 3200, Minibatch Loss= 1.0878, Training Accuracy= 0.672\n",
      "Step 3400, Minibatch Loss= 0.9735, Training Accuracy= 0.680\n",
      "Step 3600, Minibatch Loss= 1.0363, Training Accuracy= 0.664\n",
      "Step 3800, Minibatch Loss= 0.9827, Training Accuracy= 0.680\n",
      "Step 4000, Minibatch Loss= 0.8442, Training Accuracy= 0.766\n",
      "Step 4200, Minibatch Loss= 0.7837, Training Accuracy= 0.766\n",
      "Step 4400, Minibatch Loss= 0.8682, Training Accuracy= 0.758\n",
      "Step 4600, Minibatch Loss= 1.0325, Training Accuracy= 0.656\n",
      "Step 4800, Minibatch Loss= 0.7264, Training Accuracy= 0.781\n",
      "Step 5000, Minibatch Loss= 0.7559, Training Accuracy= 0.734\n",
      "Step 5200, Minibatch Loss= 0.8301, Training Accuracy= 0.766\n",
      "Step 5400, Minibatch Loss= 0.6728, Training Accuracy= 0.789\n",
      "Step 5600, Minibatch Loss= 0.6630, Training Accuracy= 0.797\n",
      "Step 5800, Minibatch Loss= 0.7030, Training Accuracy= 0.758\n",
      "Step 6000, Minibatch Loss= 0.6752, Training Accuracy= 0.773\n",
      "Step 6200, Minibatch Loss= 0.6830, Training Accuracy= 0.797\n",
      "Step 6400, Minibatch Loss= 0.5766, Training Accuracy= 0.836\n",
      "Step 6600, Minibatch Loss= 0.6818, Training Accuracy= 0.812\n",
      "Step 6800, Minibatch Loss= 0.7006, Training Accuracy= 0.727\n",
      "Step 7000, Minibatch Loss= 0.7089, Training Accuracy= 0.758\n",
      "Step 7200, Minibatch Loss= 0.5900, Training Accuracy= 0.812\n",
      "Step 7400, Minibatch Loss= 0.5567, Training Accuracy= 0.867\n",
      "Step 7600, Minibatch Loss= 0.5204, Training Accuracy= 0.875\n",
      "Step 7800, Minibatch Loss= 0.5339, Training Accuracy= 0.836\n",
      "Step 8000, Minibatch Loss= 0.5097, Training Accuracy= 0.789\n",
      "Step 8200, Minibatch Loss= 0.5336, Training Accuracy= 0.875\n",
      "Step 8400, Minibatch Loss= 0.5123, Training Accuracy= 0.836\n",
      "Step 8600, Minibatch Loss= 0.4919, Training Accuracy= 0.852\n",
      "Step 8800, Minibatch Loss= 0.5431, Training Accuracy= 0.820\n",
      "Step 9000, Minibatch Loss= 0.4802, Training Accuracy= 0.844\n",
      "Step 9200, Minibatch Loss= 0.4027, Training Accuracy= 0.891\n",
      "Step 9400, Minibatch Loss= 0.3714, Training Accuracy= 0.922\n",
      "Step 9600, Minibatch Loss= 0.3589, Training Accuracy= 0.891\n",
      "Step 9800, Minibatch Loss= 0.5883, Training Accuracy= 0.828\n",
      "Step 10000, Minibatch Loss= 0.4533, Training Accuracy= 0.844\n",
      "Optimization Finished!\n",
      "Testing Accuracy: 0.859375\n"
     ]
    }
   ],
   "source": [
    "# Start training\n",
    "with tf.Session() as sess:\n",
    "\n",
    "    # Run the initializer\n",
    "    sess.run(init)\n",
    "\n",
    "    for step in range(1, training_steps+1):\n",
    "        batch_x, batch_y = mnist.train.next_batch(batch_size)\n",
    "        # Reshape data to get 28 seq of 28 elements\n",
    "        batch_x = batch_x.reshape((batch_size, timesteps, num_input))\n",
    "        # Run optimization op (backprop)\n",
    "        sess.run(train_op, feed_dict={X: batch_x, Y: batch_y})\n",
    "        if step % display_step == 0 or step == 1:\n",
    "            # Calculate batch loss and accuracy\n",
    "            loss, acc = sess.run([loss_op, accuracy], feed_dict={X: batch_x,\n",
    "                                                                 Y: batch_y})\n",
    "            print(\"Step \" + str(step) + \", Minibatch Loss= \" + \\\n",
    "                  \"{:.4f}\".format(loss) + \", Training Accuracy= \" + \\\n",
    "                  \"{:.3f}\".format(acc))\n",
    "\n",
    "    print(\"Optimization Finished!\")\n",
    "\n",
    "    # Calculate accuracy for 128 mnist test images\n",
    "    test_len = 128\n",
    "    test_data = mnist.test.images[:test_len].reshape((-1, timesteps, num_input))\n",
    "    test_label = mnist.test.labels[:test_len]\n",
    "    print(\"Testing Accuracy:\", \\\n",
    "        sess.run(accuracy, feed_dict={X: test_data, Y: test_label}))"
   ]
  },
  {
   "cell_type": "code",
   "execution_count": null,
   "metadata": {},
   "outputs": [],
   "source": []
  }
 ],
 "metadata": {
  "anaconda-cloud": {},
  "kernelspec": {
   "display_name": "kernelForTF",
   "language": "python",
   "name": "kernelfortf"
  },
  "language_info": {
   "codemirror_mode": {
    "name": "ipython",
    "version": 2
   },
   "file_extension": ".py",
   "mimetype": "text/x-python",
   "name": "python",
   "nbconvert_exporter": "python",
   "pygments_lexer": "ipython2",
   "version": "2.7.12"
  }
 },
 "nbformat": 4,
 "nbformat_minor": 1
}
